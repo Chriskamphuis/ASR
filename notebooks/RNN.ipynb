{
 "cells": [
  {
   "cell_type": "code",
   "execution_count": 92,
   "metadata": {},
   "outputs": [],
   "source": [
    "import numpy as np\n",
    "\n",
    "from keras.models import Sequential\n",
    "from keras.layers import Dense, LSTM, Bidirectional, Dropout\n",
    "from keras.layers.embeddings import Embedding\n",
    "from keras.preprocessing import sequence"
   ]
  },
  {
   "cell_type": "code",
   "execution_count": 124,
   "metadata": {},
   "outputs": [],
   "source": [
    "x = np.random.normal(loc=0, scale=0.01, size=(10000, 12, 1))\n",
    "y = np.sin(np.arange(0,100,100./10000)) + x.mean(axis=1)[:,0]"
   ]
  },
  {
   "cell_type": "code",
   "execution_count": null,
   "metadata": {},
   "outputs": [],
   "source": []
  },
  {
   "cell_type": "code",
   "execution_count": 127,
   "metadata": {},
   "outputs": [],
   "source": [
    "x_train = x[:9000,:] \n",
    "x_test = x[9000:,:]\n",
    "y_train = y[:9000]\n",
    "y_test = y[9000:]"
   ]
  },
  {
   "cell_type": "code",
   "execution_count": 150,
   "metadata": {},
   "outputs": [],
   "source": [
    "model = Sequential()\n",
    "model.add(Bidirectional(LSTM(100), input_shape=((12, 1))))\n",
    "model.add(Dense(100))\n",
    "model.add(Dense(1, activation='tanh'))\n"
   ]
  },
  {
   "cell_type": "code",
   "execution_count": 151,
   "metadata": {},
   "outputs": [
    {
     "name": "stdout",
     "output_type": "stream",
     "text": [
      "_________________________________________________________________\n",
      "Layer (type)                 Output Shape              Param #   \n",
      "=================================================================\n",
      "bidirectional_14 (Bidirectio (None, 200)               81600     \n",
      "_________________________________________________________________\n",
      "dense_16 (Dense)             (None, 100)               20100     \n",
      "_________________________________________________________________\n",
      "dense_17 (Dense)             (None, 1)                 101       \n",
      "=================================================================\n",
      "Total params: 101,801\n",
      "Trainable params: 101,801\n",
      "Non-trainable params: 0\n",
      "_________________________________________________________________\n"
     ]
    }
   ],
   "source": [
    "model.summary()\n",
    "model.compile(loss='mse', optimizer='adam', metrics=['mse'])"
   ]
  },
  {
   "cell_type": "code",
   "execution_count": null,
   "metadata": {},
   "outputs": [
    {
     "name": "stdout",
     "output_type": "stream",
     "text": [
      "Train on 9000 samples, validate on 1000 samples\n",
      "Epoch 1/30\n",
      "9000/9000 [==============================] - 7s - loss: 0.5026 - mean_squared_error: 0.5026 - val_loss: 0.5043 - val_mean_squared_error: 0.5043\n",
      "Epoch 2/30\n",
      "9000/9000 [==============================] - 6s - loss: 0.5025 - mean_squared_error: 0.5025 - val_loss: 0.5015 - val_mean_squared_error: 0.5015\n",
      "Epoch 3/30\n",
      "9000/9000 [==============================] - 6s - loss: 0.5023 - mean_squared_error: 0.5023 - val_loss: 0.5140 - val_mean_squared_error: 0.5140\n",
      "Epoch 4/30\n",
      "9000/9000 [==============================] - 6s - loss: 0.5022 - mean_squared_error: 0.5022 - val_loss: 0.5062 - val_mean_squared_error: 0.5062\n",
      "Epoch 5/30\n",
      "4200/9000 [=============>................] - ETA: 3s - loss: 0.4967 - mean_squared_error: 0.4967"
     ]
    }
   ],
   "source": [
    "model.fit(x_train, y_train, validation_data=(x_test, y_test), epochs=30, batch_size=200)"
   ]
  },
  {
   "cell_type": "code",
   "execution_count": null,
   "metadata": {},
   "outputs": [],
   "source": [
    "model.predict(x_train)"
   ]
  },
  {
   "cell_type": "code",
   "execution_count": null,
   "metadata": {},
   "outputs": [],
   "source": []
  },
  {
   "cell_type": "code",
   "execution_count": 140,
   "metadata": {},
   "outputs": [
    {
     "data": {
      "text/plain": [
       "array([[[ 0.00240799],\n",
       "        [ 0.01827692],\n",
       "        [ 0.00630339],\n",
       "        ..., \n",
       "        [-0.00966617],\n",
       "        [-0.01220108],\n",
       "        [ 0.00464411]],\n",
       "\n",
       "       [[ 0.00240776],\n",
       "        [ 0.00394837],\n",
       "        [ 0.017725  ],\n",
       "        ..., \n",
       "        [-0.01256335],\n",
       "        [ 0.00448647],\n",
       "        [ 0.00437255]],\n",
       "\n",
       "       [[-0.00784467],\n",
       "        [ 0.00260449],\n",
       "        [-0.00675217],\n",
       "        ..., \n",
       "        [ 0.00583348],\n",
       "        [-0.0047078 ],\n",
       "        [ 0.00861117]],\n",
       "\n",
       "       ..., \n",
       "       [[ 0.00223878],\n",
       "        [-0.00875107],\n",
       "        [ 0.02342729],\n",
       "        ..., \n",
       "        [-0.01391568],\n",
       "        [ 0.0036016 ],\n",
       "        [ 0.00620854]],\n",
       "\n",
       "       [[ 0.0193266 ],\n",
       "        [-0.00337123],\n",
       "        [-0.02430884],\n",
       "        ..., \n",
       "        [ 0.01057849],\n",
       "        [ 0.00735242],\n",
       "        [ 0.00399579]],\n",
       "\n",
       "       [[-0.01193938],\n",
       "        [-0.00352602],\n",
       "        [-0.00583913],\n",
       "        ..., \n",
       "        [-0.00211145],\n",
       "        [-0.01124797],\n",
       "        [-0.00822974]]])"
      ]
     },
     "execution_count": 140,
     "metadata": {},
     "output_type": "execute_result"
    }
   ],
   "source": [
    "x_train[:100]"
   ]
  },
  {
   "cell_type": "code",
   "execution_count": null,
   "metadata": {
    "collapsed": true
   },
   "outputs": [],
   "source": []
  }
 ],
 "metadata": {
  "kernelspec": {
   "display_name": "Python 3",
   "language": "python",
   "name": "python3"
  },
  "language_info": {
   "codemirror_mode": {
    "name": "ipython",
    "version": 3
   },
   "file_extension": ".py",
   "mimetype": "text/x-python",
   "name": "python",
   "nbconvert_exporter": "python",
   "pygments_lexer": "ipython3",
   "version": "3.6.1"
  }
 },
 "nbformat": 4,
 "nbformat_minor": 2
}
